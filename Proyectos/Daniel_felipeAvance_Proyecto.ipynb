{
  "nbformat": 4,
  "nbformat_minor": 0,
  "metadata": {
    "colab": {
      "provenance": []
    },
    "kernelspec": {
      "name": "python3",
      "display_name": "Python 3"
    },
    "language_info": {
      "name": "python"
    }
  },
  "cells": [
    {
      "cell_type": "code",
      "execution_count": null,
      "metadata": {
        "id": "XhnHA3QB7d5w"
      },
      "outputs": [],
      "source": [
        "# Importar librería para manejar archivos JSON\n",
        "import json\n",
        "\n",
        "# Función para crear una cuenta nueva\n",
        "def crear_cuenta():\n",
        "    # Pedir al usuario que ingrese su nombre y contraseña\n",
        "    nombre = input(\"Ingresa tu nombre de usuario: \")\n",
        "    contrasena = input(\"Ingresa tu contraseña: \")\n",
        "\n",
        "    # Crear un diccionario con el nombre y la contraseña\n",
        "    cuenta = {\"nombre\": nombre, \"contrasena\": contrasena}\n",
        "\n",
        "    # Guardar la cuenta en un archivo JSON\n",
        "    with open(\"cuentas.json\", \"a\") as archivo:\n",
        "        archivo.write(json.dumps(cuenta) + \"\\n\")\n",
        "\n",
        "    print(\"Cuenta creada exitosamente.\")\n",
        "\n",
        "# Función para iniciar sesión con una cuenta existente\n",
        "def iniciar_sesion():\n",
        "    # Pedir al usuario que ingrese su nombre y contraseña\n",
        "    nombre = input(\"Ingresa tu nombre de usuario: \")\n",
        "    contrasena = input(\"Ingresa tu contraseña: \")\n",
        "\n",
        "    # Leer todas las cuentas del archivo JSON\n",
        "    with open(\"cuentas.json\", \"r\") as archivo:\n",
        "        lineas = archivo.readlines()\n",
        "\n",
        "    # Verificar si existe una cuenta con ese nombre y contraseña\n",
        "    for linea in lineas:\n",
        "        cuenta = json.loads(linea)\n",
        "        if cuenta[\"nombre\"] == nombre and cuenta[\"contrasena\"] == contrasena:\n",
        "            print(\"Inicio de sesión exitoso.\")\n",
        "            return\n",
        "\n",
        "    print(\"Nombre de usuario o contraseña incorrectos.\")\n",
        "\n",
        "# Menú principal del programa\n",
        "while True:\n",
        "    print(\"1. Crear una cuenta nueva\")\n",
        "    print(\"2. Iniciar sesión\")\n",
        "    print(\"3. Salir\")\n",
        "\n",
        "    opcion = input(\"Ingresa una opción: \")\n",
        "\n",
        "    if opcion == \"1\":\n",
        "        crear_cuenta()\n",
        "    elif opcion == \"2\":\n",
        "        iniciar_sesion()\n",
        "    elif opcion == \"3\":\n",
        "        break\n",
        "    else:\n",
        "        print(\"Opción no válida.\")\n"
      ]
    },
    {
      "cell_type": "markdown",
      "source": [
        "Geraldine Ortiz Rodriguez T00078869\n",
        "\n",
        "Marcos Ored Barrios Moreno T00077220\n",
        "\n",
        "Joseph Fabian Martinez John T00068270\n",
        "\n",
        "Daniel Barboza Garces T0077633"
      ],
      "metadata": {
        "id": "YyrDVxlI97l0"
      }
    }
  ]
}