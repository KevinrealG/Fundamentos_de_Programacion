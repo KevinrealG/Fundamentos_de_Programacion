{
  "nbformat": 4,
  "nbformat_minor": 0,
  "metadata": {
    "colab": {
      "provenance": [],
      "authorship_tag": "ABX9TyNJRxhfbBMhWws3AdTBP7fY",
      "include_colab_link": true
    },
    "kernelspec": {
      "name": "python3",
      "display_name": "Python 3"
    },
    "language_info": {
      "name": "python"
    }
  },
  "cells": [
    {
      "cell_type": "markdown",
      "metadata": {
        "id": "view-in-github",
        "colab_type": "text"
      },
      "source": [
        "<a href=\"https://colab.research.google.com/github/KevinrealG/Fundamentos_de_Programacion/blob/main/02_programa_sencillo.ipynb\" target=\"_parent\"><img src=\"https://colab.research.google.com/assets/colab-badge.svg\" alt=\"Open In Colab\"/></a>"
      ]
    },
    {
      "cell_type": "markdown",
      "source": [
        "# Creando un Programa Simple\n",
        "En este notebook vamos a repasar los pasos para crear un programa.\n",
        "Vamos a partir desde el siguiente enunciado:\n",
        "\n",
        "\n",
        "\n",
        "> *\"Nos dan un valor expresado en millas, pies y pulgadas y queremos transformarlo en un valor en el sistema métrico decimal. Sin embargo, hay varias respuestas posibles, porque no hemos fijado en qué unidad queremos el resultado. Supongamos que decidimos que queremos expresar todo en metros.\"*\n",
        "\n",
        "\n",
        "\n"
      ],
      "metadata": {
        "id": "VVbCm8hSR4qz"
      }
    },
    {
      "cell_type": "markdown",
      "source": [
        "### Analizar el Problema"
      ],
      "metadata": {
        "id": "Xga8Eu54WGqD"
      }
    },
    {
      "cell_type": "code",
      "execution_count": null,
      "metadata": {
        "id": "oIk7mx7NQ0fW"
      },
      "outputs": [],
      "source": []
    }
  ]
}