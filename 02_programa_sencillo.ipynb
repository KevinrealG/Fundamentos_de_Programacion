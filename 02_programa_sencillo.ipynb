{
  "nbformat": 4,
  "nbformat_minor": 0,
  "metadata": {
    "colab": {
      "provenance": [],
      "authorship_tag": "ABX9TyNP1yfR1BDyysOUHcdq3mxe",
      "include_colab_link": true
    },
    "kernelspec": {
      "name": "python3",
      "display_name": "Python 3"
    },
    "language_info": {
      "name": "python"
    }
  },
  "cells": [
    {
      "cell_type": "markdown",
      "metadata": {
        "id": "view-in-github",
        "colab_type": "text"
      },
      "source": [
        "<a href=\"https://colab.research.google.com/github/KevinrealG/Fundamentos_de_Programacion/blob/main/02_programa_sencillo.ipynb\" target=\"_parent\"><img src=\"https://colab.research.google.com/assets/colab-badge.svg\" alt=\"Open In Colab\"/></a>"
      ]
    },
    {
      "cell_type": "markdown",
      "source": [
        "# Creando un Programa Simple\n",
        "En este notebook vamos a repasar los pasos para crear un programa.\n",
        "Vamos a partir desde el siguiente enunciado:\n",
        "\n",
        "\n",
        "\n",
        "> *Al examinar un artículo en una revista estadounidense que presenta datos de longitudes en millas, pies y pulgadas, deseamos realizar la conversión de esas distancias para facilitar su comprensión. Con este propósito, hemos optado por desarrollar un programa capaz de convertir las longitudes del sistema imperial al sistema métrico decimal.*\n",
        "\n",
        "\n",
        "\n"
      ],
      "metadata": {
        "id": "VVbCm8hSR4qz"
      }
    },
    {
      "cell_type": "markdown",
      "source": [
        "### Analizar el Problema"
      ],
      "metadata": {
        "id": "Xga8Eu54WGqD"
      }
    },
    {
      "cell_type": "markdown",
      "source": [
        "*Se nos proporciona un valor expresado en millas, pies y pulgadas, y buscamos convertirlo a un valor en el sistema métrico decimal, específicamente en metros. No obstante, cabe destacar que existen varias respuestas posibles, ya que no hemos definido en qué unidad deseamos el resultado. Supongamos que optamos por expresar todo en metros.*"
      ],
      "metadata": {
        "id": "INw8bcg8XFcQ"
      }
    },
    {
      "cell_type": "markdown",
      "source": [
        "### Especificación"
      ],
      "metadata": {
        "id": "XI7DiXYSX_Gc"
      }
    },
    {
      "cell_type": "markdown",
      "source": [
        "Es fundamental establecer la correspondencia entre los datos de entrada y los datos de salida. En primer lugar, necesitamos identificar los valores para la conversión de las unidades fundamentales. Tras realizar una búsqueda en Internet, encontramos lo siguiente:\n",
        "- 1 milla = 1.609344 km\n",
        "- 1 pie = 30.48 cm\n",
        "- 1 pulgada = 2.54 cm\n",
        "\n",
        "En metros:\n",
        "- 1 milla = 1609.344 m\n",
        "- 1 pie = 0.3048 m\n",
        "- 1 pulgada = 0.0254 m"
      ],
      "metadata": {
        "id": "abhAzy6OYU0v"
      }
    },
    {
      "cell_type": "markdown",
      "source": [
        "### Diseño (pseudocódigo)\n"
      ],
      "metadata": {
        "id": "ZG-LkHLNY4f5"
      }
    },
    {
      "cell_type": "markdown",
      "source": [
        "La estructura de este programa es sencilla: leer los datos de entrada, calcular la\n",
        "solución, mostrar el resultado, o **Entrada-Cálculo-Salida**.\n",
        "##### Pseudocódigo:"
      ],
      "metadata": {
        "id": "fRsK0XoIZtCr"
      }
    },
    {
      "cell_type": "markdown",
      "source": [
        "1. Leer la cantidad de millas de la longitud dada (y asignarlo a la variable \"millas\").\n",
        "2. Leer la cantidad de pies de la longitud dada (y asignarlo a la variable \"pies\").\n",
        "3. Leer la cantidad de pulgadas de la longitud dada (y asignarlo a la variable \"pulgadas\").\n",
        "4. Calcular la longitud en metros utilizando la fórmula:\n",
        "\n",
        "```python\n",
        "metros = 1609.344 * millas + 0.3048 * pies + 0.0254 * pulgadas\n",
        "```\n",
        "\n",
        "5. Mostrar en pantalla el valor de la variable \"metros\"."
      ],
      "metadata": {
        "id": "SZnfDZZBZI3T"
      }
    },
    {
      "cell_type": "markdown",
      "source": [
        "### Implementación\n"
      ],
      "metadata": {
        "id": "05as59DNZ7-e"
      }
    },
    {
      "cell_type": "code",
      "source": [
        "def main():\n",
        "    print(\"Convierte medidas inglesas a sistema métrico\")\n",
        "    millas = float(input(\"¿Cuántas millas?: \"))\n",
        "    pies = float(input(\"¿Y cuántos pies?: \"))\n",
        "    pulgadas = float(input(\"¿Y cuántas pulgadas?: \"))\n",
        "\n",
        "    metros = 1609.344 * millas + 0.3048 * pies + 0.0254 * pulgadas\n",
        "    print(\"La longitud es de\", metros, \"metros\")\n",
        "\n",
        "main()\n"
      ],
      "metadata": {
        "colab": {
          "base_uri": "https://localhost:8080/"
        },
        "id": "U5m2dNmtW_yK",
        "outputId": "5921bdc4-3e35-4755-92a8-aabce05e6dde"
      },
      "execution_count": 2,
      "outputs": [
        {
          "output_type": "stream",
          "name": "stdout",
          "text": [
            "Convierte medidas inglesas a sistema métrico\n",
            "¿Cuántas millas?: 1\n",
            "¿Y cuántos pies?: 0\n",
            "¿Y cuántas pulgadas?: 0\n",
            "La longitud es de 1609.344 metros\n"
          ]
        }
      ]
    },
    {
      "cell_type": "markdown",
      "source": [
        "### Pruebas\n",
        "Prueba. Probaremos el programa para valores para los que conocemos la solución:\n",
        "-   1 milla, 0 pies, 0 pulgadas.\n",
        "- 0 millas, 1 pie, 0 pulgada.\n",
        "- 0 millas, 0 pies, 1 pulgada."
      ],
      "metadata": {
        "id": "KyVgvdiXaSUM"
      }
    },
    {
      "cell_type": "code",
      "execution_count": 3,
      "metadata": {
        "id": "oIk7mx7NQ0fW",
        "colab": {
          "base_uri": "https://localhost:8080/"
        },
        "outputId": "a7443e13-2c83-411e-b641-637a0bbc920d"
      },
      "outputs": [
        {
          "output_type": "stream",
          "name": "stdout",
          "text": [
            "Convierte medidas inglesas a sistema métrico\n",
            "¿Cuántas millas?: 0\n",
            "¿Y cuántos pies?: 1\n",
            "¿Y cuántas pulgadas?: 0\n",
            "La longitud es de 0.3048 metros\n"
          ]
        }
      ],
      "source": [
        "main()"
      ]
    },
    {
      "cell_type": "code",
      "source": [
        "main()"
      ],
      "metadata": {
        "colab": {
          "base_uri": "https://localhost:8080/"
        },
        "id": "R0l8Z-pPac1D",
        "outputId": "20165f89-7459-497e-b161-eaac42b70adf"
      },
      "execution_count": 4,
      "outputs": [
        {
          "output_type": "stream",
          "name": "stdout",
          "text": [
            "Convierte medidas inglesas a sistema métrico\n",
            "¿Cuántas millas?: 0\n",
            "¿Y cuántos pies?: 0\n",
            "¿Y cuántas pulgadas?: 1\n",
            "La longitud es de 0.0254 metros\n"
          ]
        }
      ]
    },
    {
      "cell_type": "markdown",
      "source": [
        "### Mantenimiento\n",
        "Comentarios, tambien para otras unidades diferentes de metros\n"
      ],
      "metadata": {
        "id": "IW-Tq_Gwa_85"
      }
    },
    {
      "cell_type": "code",
      "source": [
        "def main():\n",
        "    \"\"\"\n",
        "    Convierte medidas inglesas a sistema métrico y muestra la longitud en metros.\n",
        "    \"\"\"\n",
        "    print(\"Convierte medidas inglesas a sistema métrico\")\n",
        "\n",
        "    # Solicitar al usuario la cantidad de millas, pies y pulgadas\n",
        "    millas = float(input(\"¿Cuántas millas?: \"))\n",
        "    pies = float(input(\"¿Y cuántos pies?: \"))\n",
        "    pulgadas = float(input(\"¿Y cuántas pulgadas?: \"))\n",
        "\n",
        "    # Calcular la longitud en metros utilizando la fórmula de conversión\n",
        "    metros = 1609.344 * millas + 0.3048 * pies + 0.0254 * pulgadas\n",
        "\n",
        "    # Mostrar la longitud en metros\n",
        "    print(\"La longitud es de\", metros, \"metros\")\n",
        "\n",
        "if __name__ == \"__main__\":\n",
        "    main()\n"
      ],
      "metadata": {
        "colab": {
          "base_uri": "https://localhost:8080/"
        },
        "id": "mQik3aVCauU9",
        "outputId": "1dbc2ddb-8913-4a33-da9e-da6cad4ad932"
      },
      "execution_count": 5,
      "outputs": [
        {
          "output_type": "stream",
          "name": "stdout",
          "text": [
            "Convierte medidas inglesas a sistema métrico\n",
            "¿Cuántas millas?: 0\n",
            "¿Y cuántos pies?: 1\n",
            "¿Y cuántas pulgadas?: 1\n",
            "La longitud es de 0.3302 metros\n"
          ]
        }
      ]
    },
    {
      "cell_type": "code",
      "source": [],
      "metadata": {
        "id": "pg-9W6TObKIw"
      },
      "execution_count": null,
      "outputs": []
    }
  ]
}