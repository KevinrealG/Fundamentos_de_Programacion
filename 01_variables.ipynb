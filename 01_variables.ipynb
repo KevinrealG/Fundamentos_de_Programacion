{
  "nbformat": 4,
  "nbformat_minor": 0,
  "metadata": {
    "colab": {
      "provenance": [],
      "include_colab_link": true
    },
    "kernelspec": {
      "name": "python3",
      "display_name": "Python 3"
    },
    "language_info": {
      "name": "python"
    }
  },
  "cells": [
    {
      "cell_type": "markdown",
      "metadata": {
        "id": "view-in-github",
        "colab_type": "text"
      },
      "source": [
        "<a href=\"https://colab.research.google.com/github/KevinrealG/Fundamentos_de_Programacion/blob/main/variables.ipynb\" target=\"_parent\"><img src=\"https://colab.research.google.com/assets/colab-badge.svg\" alt=\"Open In Colab\"/></a>"
      ]
    },
    {
      "cell_type": "markdown",
      "source": [
        "# Introducción\n"
      ],
      "metadata": {
        "id": "P4zNoLmBv-u-"
      }
    },
    {
      "cell_type": "code",
      "execution_count": null,
      "metadata": {
        "colab": {
          "base_uri": "https://localhost:8080/"
        },
        "id": "3CuCT40vMls3",
        "outputId": "949a9203-04b6-4929-82af-08b116edef55"
      },
      "outputs": [
        {
          "output_type": "stream",
          "name": "stdout",
          "text": [
            "¡Hola Mundo!\n",
            "Hola, ¿Cuál es tú nombre?Andrés\n",
            "Hola  Andrés un gusto conocerte.\n"
          ]
        }
      ],
      "source": [
        "#programa ¡hola mundo!\n",
        "print(\"¡Hola Mundo!\")\n",
        "mi_nombre = input(\"Hola, ¿Cuál es tú nombre?\")\n",
        "print(\"Hola \",mi_nombre, \"un gusto conocerte.\")"
      ]
    },
    {
      "cell_type": "code",
      "source": [
        "print(\"Doble de un Número\")\n",
        "numero = int(input(\"Ingrese un número: \"))\n",
        "print(\"El doble del número es: \",2*numero)"
      ],
      "metadata": {
        "colab": {
          "base_uri": "https://localhost:8080/"
        },
        "id": "wwSd2StnQYhV",
        "outputId": "815c410e-dcf7-4c16-e8c2-57fb255193e2"
      },
      "execution_count": null,
      "outputs": [
        {
          "output_type": "stream",
          "name": "stdout",
          "text": [
            "Doble de un Número\n",
            "Ingrese un número: 5\n",
            "El doble del número es:  10\n"
          ]
        }
      ]
    },
    {
      "cell_type": "markdown",
      "source": [
        "# Creando Variables\n"
      ],
      "metadata": {
        "id": "BRT2zAgQwP-x"
      }
    },
    {
      "cell_type": "markdown",
      "source": [
        "## Sentencia de Asignación\n",
        "En Python solo se necesita realizar escribir esta sentencia en el código para crear una\n"
      ],
      "metadata": {
        "id": "-MsgM8xAwhaS"
      }
    },
    {
      "cell_type": "code",
      "source": [
        "#mi_variable = valor_de_mi_variable\n",
        "mi_edad = 20\n",
        "pi  = 3.14\n",
        "n = 1\n",
        "nombre = \"Camilo\"\n",
        "verdadder = True\n",
        "\n"
      ],
      "metadata": {
        "id": "LgsHzVTawZjI"
      },
      "execution_count": null,
      "outputs": []
    },
    {
      "cell_type": "markdown",
      "source": [
        "## Ver Tipo"
      ],
      "metadata": {
        "id": "Nmys_1ayxNSL"
      }
    },
    {
      "cell_type": "code",
      "source": [
        "type(verdadder)"
      ],
      "metadata": {
        "id": "34Oox3-axMt3",
        "colab": {
          "base_uri": "https://localhost:8080/"
        },
        "outputId": "efefb50c-ee38-478a-d691-d7ffd3d966f7"
      },
      "execution_count": null,
      "outputs": [
        {
          "output_type": "execute_result",
          "data": {
            "text/plain": [
              "bool"
            ]
          },
          "metadata": {},
          "execution_count": 10
        }
      ]
    },
    {
      "cell_type": "markdown",
      "source": [
        "## Imprimir Variable"
      ],
      "metadata": {
        "id": "fdhBkY3uwtPR"
      }
    },
    {
      "cell_type": "code",
      "source": [
        "print(verdadder)"
      ],
      "metadata": {
        "colab": {
          "base_uri": "https://localhost:8080/"
        },
        "id": "XRrGN8QX6qxe",
        "outputId": "52f14c45-2830-4e62-a54f-f9a4c64fc9c6"
      },
      "execution_count": null,
      "outputs": [
        {
          "output_type": "stream",
          "name": "stdout",
          "text": [
            "True\n"
          ]
        }
      ]
    },
    {
      "cell_type": "markdown",
      "source": [
        "##"
      ],
      "metadata": {
        "id": "k2A8e_ruwyQO"
      }
    },
    {
      "cell_type": "markdown",
      "source": [
        "## Múltiples Variables"
      ],
      "metadata": {
        "id": "mQf8ERhExH93"
      }
    },
    {
      "cell_type": "code",
      "source": [
        "a , b , c = 20, 14, 15"
      ],
      "metadata": {
        "id": "dzw8qbixwrmT"
      },
      "execution_count": null,
      "outputs": []
    },
    {
      "cell_type": "markdown",
      "source": [
        "## Usar Variables\n"
      ],
      "metadata": {
        "id": "U1_8paGTxrio"
      }
    },
    {
      "cell_type": "code",
      "source": [
        "# Usar variables\n",
        "suma = a +b +c\n",
        "print(suma)"
      ],
      "metadata": {
        "id": "aKtxjk9yxpRb",
        "colab": {
          "base_uri": "https://localhost:8080/"
        },
        "outputId": "95c6ac90-d281-47ce-b3e7-77b3db3beaf5"
      },
      "execution_count": null,
      "outputs": [
        {
          "output_type": "stream",
          "name": "stdout",
          "text": [
            "49\n"
          ]
        }
      ]
    },
    {
      "cell_type": "markdown",
      "source": [
        "## Constantes y función input"
      ],
      "metadata": {
        "id": "-ht6d9tw6DOG"
      }
    },
    {
      "cell_type": "code",
      "source": [
        "# programa que calcula el triple de un número\n",
        "print(\"TRIPLE DEL NÚMERO\")\n",
        "TRIPLE = 3\n",
        "numero = float(input(\"Ingrese un numero: \"))\n",
        "print(\"EL triple de ese número es: \",TRIPLE*numero)"
      ],
      "metadata": {
        "colab": {
          "base_uri": "https://localhost:8080/"
        },
        "id": "0syf0b1FA_eX",
        "outputId": "64f4327c-0237-4e26-bbf9-bdb2db6f7c54"
      },
      "execution_count": null,
      "outputs": [
        {
          "output_type": "stream",
          "name": "stdout",
          "text": [
            "TRIPLE DEL NÚMERO\n",
            "Ingrese un numero: 2\n",
            "EL triple de ese número es:  6.0\n"
          ]
        }
      ]
    },
    {
      "cell_type": "markdown",
      "source": [
        "# Nombrar Variables"
      ],
      "metadata": {
        "id": "9HmeGv7SxZMs"
      }
    },
    {
      "cell_type": "code",
      "source": [],
      "metadata": {
        "id": "au9ZBxdMxY7m"
      },
      "execution_count": null,
      "outputs": []
    }
  ]
}
