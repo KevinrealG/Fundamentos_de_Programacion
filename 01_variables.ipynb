{
  "nbformat": 4,
  "nbformat_minor": 0,
  "metadata": {
    "colab": {
      "provenance": [],
      "include_colab_link": true
    },
    "kernelspec": {
      "name": "python3",
      "display_name": "Python 3"
    },
    "language_info": {
      "name": "python"
    }
  },
  "cells": [
    {
      "cell_type": "markdown",
      "metadata": {
        "id": "view-in-github",
        "colab_type": "text"
      },
      "source": [
        "<a href=\"https://colab.research.google.com/github/KevinrealG/Fundamentos_de_Programacion/blob/main/01_variables.ipynb\" target=\"_parent\"><img src=\"https://colab.research.google.com/assets/colab-badge.svg\" alt=\"Open In Colab\"/></a>"
      ]
    },
    {
      "cell_type": "markdown",
      "source": [
        "# Introducción\n"
      ],
      "metadata": {
        "id": "P4zNoLmBv-u-"
      }
    },
    {
      "cell_type": "code",
      "execution_count": null,
      "metadata": {
        "colab": {
          "base_uri": "https://localhost:8080/"
        },
        "id": "3CuCT40vMls3",
        "outputId": "949a9203-04b6-4929-82af-08b116edef55"
      },
      "outputs": [
        {
          "output_type": "stream",
          "name": "stdout",
          "text": [
            "¡Hola Mundo!\n",
            "Hola, ¿Cuál es tú nombre?Andrés\n",
            "Hola  Andrés un gusto conocerte.\n"
          ]
        }
      ],
      "source": [
        "#programa ¡hola mundo!\n",
        "print(\"¡Hola Mundo!\")\n",
        "mi_nombre = input(\"Hola, ¿Cuál es tú nombre?\")\n",
        "print(\"Hola \",mi_nombre, \"un gusto conocerte.\")"
      ]
    },
    {
      "cell_type": "code",
      "source": [
        "print(\"Doble de un Número\")\n",
        "numero = int(input(\"Ingrese un número: \"))\n",
        "print(\"El doble del número es: \",2*numero)"
      ],
      "metadata": {
        "colab": {
          "base_uri": "https://localhost:8080/"
        },
        "id": "wwSd2StnQYhV",
        "outputId": "815c410e-dcf7-4c16-e8c2-57fb255193e2"
      },
      "execution_count": null,
      "outputs": [
        {
          "output_type": "stream",
          "name": "stdout",
          "text": [
            "Doble de un Número\n",
            "Ingrese un número: 5\n",
            "El doble del número es:  10\n"
          ]
        }
      ]
    },
    {
      "cell_type": "markdown",
      "source": [
        "# Creando Variables\n"
      ],
      "metadata": {
        "id": "BRT2zAgQwP-x"
      }
    },
    {
      "cell_type": "markdown",
      "source": [
        "## Sentencia de Asignación\n",
        "En Python solo se necesita realizar escribir esta sentencia en el código para crear una\n"
      ],
      "metadata": {
        "id": "-MsgM8xAwhaS"
      }
    },
    {
      "cell_type": "code",
      "source": [
        "#mi_variable = valor_de_mi_variable\n",
        "mi_edad = 20\n",
        "pi  = 3.14\n",
        "n = 1\n",
        "nombre = \"Camilo\"\n",
        "verdadder = True\n",
        "\n"
      ],
      "metadata": {
        "id": "LgsHzVTawZjI"
      },
      "execution_count": null,
      "outputs": []
    },
    {
      "cell_type": "markdown",
      "source": [
        "## Ver Tipo"
      ],
      "metadata": {
        "id": "Nmys_1ayxNSL"
      }
    },
    {
      "cell_type": "code",
      "source": [
        "type(verdadder)"
      ],
      "metadata": {
        "id": "34Oox3-axMt3",
        "colab": {
          "base_uri": "https://localhost:8080/"
        },
        "outputId": "efefb50c-ee38-478a-d691-d7ffd3d966f7"
      },
      "execution_count": null,
      "outputs": [
        {
          "output_type": "execute_result",
          "data": {
            "text/plain": [
              "bool"
            ]
          },
          "metadata": {},
          "execution_count": 10
        }
      ]
    },
    {
      "cell_type": "markdown",
      "source": [
        "## Imprimir Variable"
      ],
      "metadata": {
        "id": "fdhBkY3uwtPR"
      }
    },
    {
      "cell_type": "code",
      "source": [
        "print(verdadder)"
      ],
      "metadata": {
        "colab": {
          "base_uri": "https://localhost:8080/"
        },
        "id": "XRrGN8QX6qxe",
        "outputId": "52f14c45-2830-4e62-a54f-f9a4c64fc9c6"
      },
      "execution_count": null,
      "outputs": [
        {
          "output_type": "stream",
          "name": "stdout",
          "text": [
            "True\n"
          ]
        }
      ]
    },
    {
      "cell_type": "markdown",
      "source": [
        "##"
      ],
      "metadata": {
        "id": "k2A8e_ruwyQO"
      }
    },
    {
      "cell_type": "markdown",
      "source": [
        "## Múltiples Variables"
      ],
      "metadata": {
        "id": "mQf8ERhExH93"
      }
    },
    {
      "cell_type": "code",
      "source": [
        "a , b , c = 20, 14, 15"
      ],
      "metadata": {
        "id": "dzw8qbixwrmT"
      },
      "execution_count": null,
      "outputs": []
    },
    {
      "cell_type": "markdown",
      "source": [
        "## Usar Variables\n"
      ],
      "metadata": {
        "id": "U1_8paGTxrio"
      }
    },
    {
      "cell_type": "code",
      "source": [
        "# Usar variables\n",
        "suma = a +b +c\n",
        "print(suma)"
      ],
      "metadata": {
        "id": "aKtxjk9yxpRb",
        "colab": {
          "base_uri": "https://localhost:8080/"
        },
        "outputId": "95c6ac90-d281-47ce-b3e7-77b3db3beaf5"
      },
      "execution_count": null,
      "outputs": [
        {
          "output_type": "stream",
          "name": "stdout",
          "text": [
            "49\n"
          ]
        }
      ]
    },
    {
      "cell_type": "markdown",
      "source": [
        "## Constantes y función input"
      ],
      "metadata": {
        "id": "-ht6d9tw6DOG"
      }
    },
    {
      "cell_type": "code",
      "source": [
        "# programa que calcula el triple de un número\n",
        "print(\"TRIPLE DEL NÚMERO\")\n",
        "TRIPLE = 3\n",
        "numero = float(input(\"Ingrese un numero: \"))\n",
        "print(\"EL triple de ese número es: \",TRIPLE*numero)"
      ],
      "metadata": {
        "colab": {
          "base_uri": "https://localhost:8080/"
        },
        "id": "0syf0b1FA_eX",
        "outputId": "64f4327c-0237-4e26-bbf9-bdb2db6f7c54"
      },
      "execution_count": null,
      "outputs": [
        {
          "output_type": "stream",
          "name": "stdout",
          "text": [
            "TRIPLE DEL NÚMERO\n",
            "Ingrese un numero: 2\n",
            "EL triple de ese número es:  6.0\n"
          ]
        }
      ]
    },
    {
      "cell_type": "markdown",
      "source": [
        "# Nombrar Variables\n",
        "* El nombre no puede empezar por un número\n",
        "* No se permite el uso de guiones -\n",
        "* Tampoco se permite el uso de espacios.\n",
        "* Python diferencia Mayuscula y minuscula.\n",
        "\n",
        "Para más consulta guía PEP 8."
      ],
      "metadata": {
        "id": "9HmeGv7SxZMs"
      }
    },
    {
      "cell_type": "code",
      "source": [],
      "metadata": {
        "id": "au9ZBxdMxY7m"
      },
      "execution_count": null,
      "outputs": []
    },
    {
      "cell_type": "code",
      "source": [
        "# Válido\n",
        "_variable = 10\n",
        "vari_able = 20\n",
        "variable10 = 30\n",
        "variable = 60\n",
        "variaBle = 10\n",
        "\n",
        "# No válido\n",
        "2variable = 10\n",
        "var-iable = 10\n",
        "var iable = 10"
      ],
      "metadata": {
        "colab": {
          "base_uri": "https://localhost:8080/",
          "height": 142
        },
        "outputId": "c6862969-1b62-406f-faad-e442b1bdc1f5",
        "id": "Wzyd_lc6xFAe"
      },
      "execution_count": null,
      "outputs": [
        {
          "output_type": "error",
          "ename": "SyntaxError",
          "evalue": "ignored",
          "traceback": [
            "\u001b[0;36m  File \u001b[0;32m\"<ipython-input-1-1e8882deee14>\"\u001b[0;36m, line \u001b[0;32m9\u001b[0m\n\u001b[0;31m    2variable = 10\u001b[0m\n\u001b[0m    ^\u001b[0m\n\u001b[0;31mSyntaxError\u001b[0m\u001b[0;31m:\u001b[0m invalid decimal literal\n"
          ]
        }
      ]
    },
    {
      "cell_type": "markdown",
      "source": [
        "### Palabras reservadas\n"
      ],
      "metadata": {
        "id": "bRsvitUch9jZ"
      }
    },
    {
      "cell_type": "code",
      "source": [
        "import keyword\n",
        "print(keyword.kwlist)"
      ],
      "metadata": {
        "id": "MJA1f-Ffh73J",
        "colab": {
          "base_uri": "https://localhost:8080/"
        },
        "outputId": "2afa3813-9df6-4d08-f846-691bebc3117f"
      },
      "execution_count": null,
      "outputs": [
        {
          "output_type": "stream",
          "name": "stdout",
          "text": [
            "['False', 'None', 'True', 'and', 'as', 'assert', 'async', 'await', 'break', 'class', 'continue', 'def', 'del', 'elif', 'else', 'except', 'finally', 'for', 'from', 'global', 'if', 'import', 'in', 'is', 'lambda', 'nonlocal', 'not', 'or', 'pass', 'raise', 'return', 'try', 'while', 'with', 'yield']\n"
          ]
        }
      ]
    },
    {
      "cell_type": "code",
      "source": [
        "print = 3\n",
        "#incorrecto"
      ],
      "metadata": {
        "id": "L2pb5t9GjNDa"
      },
      "execution_count": null,
      "outputs": []
    },
    {
      "cell_type": "code",
      "source": [
        "print(5+2)"
      ],
      "metadata": {
        "colab": {
          "base_uri": "https://localhost:8080/",
          "height": 178
        },
        "id": "Fe7JzjaWmuJ2",
        "outputId": "e80ce206-c046-41a9-d5e7-eec34c730015"
      },
      "execution_count": null,
      "outputs": [
        {
          "output_type": "error",
          "ename": "TypeError",
          "evalue": "ignored",
          "traceback": [
            "\u001b[0;31m---------------------------------------------------------------------------\u001b[0m",
            "\u001b[0;31mTypeError\u001b[0m                                 Traceback (most recent call last)",
            "\u001b[0;32m<ipython-input-4-42b41b571c0c>\u001b[0m in \u001b[0;36m<cell line: 1>\u001b[0;34m()\u001b[0m\n\u001b[0;32m----> 1\u001b[0;31m \u001b[0mprint\u001b[0m\u001b[0;34m(\u001b[0m\u001b[0;36m5\u001b[0m\u001b[0;34m+\u001b[0m\u001b[0;36m2\u001b[0m\u001b[0;34m)\u001b[0m\u001b[0;34m\u001b[0m\u001b[0;34m\u001b[0m\u001b[0m\n\u001b[0m",
            "\u001b[0;31mTypeError\u001b[0m: 'int' object is not callable"
          ]
        }
      ]
    },
    {
      "cell_type": "markdown",
      "source": [
        "## EJEMPLO"
      ],
      "metadata": {
        "id": "HA_2fZA5kIWK"
      }
    },
    {
      "cell_type": "code",
      "source": [
        "#PROGRAMA CONVERSION DE Kg A g\n",
        "peso_en_kilos = float(input(\"Ingrese la masa en kilogramos: \"))\n",
        "tasa_de_conversion = 1000\n",
        "peso_en_gramos ="
      ],
      "metadata": {
        "id": "EVVLBjQCkMh8"
      },
      "execution_count": null,
      "outputs": []
    },
    {
      "cell_type": "code",
      "source": [
        "# Promedio de edades\n",
        "edad1 =\n",
        "edad2 =\n",
        "nombre_1 =\n",
        "nombre_2 ="
      ],
      "metadata": {
        "id": "kLCjMJ0xkk6N"
      },
      "execution_count": null,
      "outputs": []
    }
  ]
}