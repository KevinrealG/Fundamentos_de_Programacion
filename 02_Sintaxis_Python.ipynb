{
  "nbformat": 4,
  "nbformat_minor": 0,
  "metadata": {
    "colab": {
      "provenance": [],
      "authorship_tag": "ABX9TyOWSzfb8ZzFY7DAphrXQw0C",
      "include_colab_link": true
    },
    "kernelspec": {
      "name": "python3",
      "display_name": "Python 3"
    },
    "language_info": {
      "name": "python"
    }
  },
  "cells": [
    {
      "cell_type": "markdown",
      "metadata": {
        "id": "view-in-github",
        "colab_type": "text"
      },
      "source": [
        "<a href=\"https://colab.research.google.com/github/KevinrealG/Fundamentos_de_Programacion/blob/main/02_Sintaxis_Python.ipynb\" target=\"_parent\"><img src=\"https://colab.research.google.com/assets/colab-badge.svg\" alt=\"Open In Colab\"/></a>"
      ]
    },
    {
      "cell_type": "markdown",
      "source": [
        "# Sintaxis"
      ],
      "metadata": {
        "id": "_WFf-hZKjqQa"
      }
    },
    {
      "cell_type": "markdown",
      "source": [
        "La programación y los idiomas comparten una similitud en su estructura. Así como la gramática es esencial para comprender y comunicarse en un idioma, la sintaxis desempeña un papel fundamental en la programación. Al igual que la frase \"Ella comen pizza\" no sigue las reglas gramaticales correctas, un código en Python puede considerarse incorrecto si no respeta las normas sintácticas del lenguaje de programación.\n"
      ],
      "metadata": {
        "id": "_gFGL8R7YQsH"
      }
    },
    {
      "cell_type": "code",
      "source": [
        "print 8)"
      ],
      "metadata": {
        "id": "sTdREgFIjpzQ",
        "outputId": "a2158505-bc7e-48e0-bf31-0362baaf78df",
        "colab": {
          "base_uri": "https://localhost:8080/",
          "height": 141
        }
      },
      "execution_count": 7,
      "outputs": [
        {
          "output_type": "error",
          "ename": "SyntaxError",
          "evalue": "ignored",
          "traceback": [
            "\u001b[0;36m  File \u001b[0;32m\"<ipython-input-7-be692a976475>\"\u001b[0;36m, line \u001b[0;32m1\u001b[0m\n\u001b[0;31m    print 8)\u001b[0m\n\u001b[0m           ^\u001b[0m\n\u001b[0;31mSyntaxError\u001b[0m\u001b[0;31m:\u001b[0m unmatched ')'\n"
          ]
        }
      ]
    },
    {
      "cell_type": "code",
      "execution_count": 8,
      "metadata": {
        "id": "VosRcO7HXlQ2",
        "outputId": "f481a3f9-3fce-4a0a-b493-c7f3a11d0ff4",
        "colab": {
          "base_uri": "https://localhost:8080/",
          "height": 141
        }
      },
      "outputs": [
        {
          "output_type": "error",
          "ename": "SyntaxError",
          "evalue": "ignored",
          "traceback": [
            "\u001b[0;36m  File \u001b[0;32m\"<ipython-input-8-6287a7a43f7e>\"\u001b[0;36m, line \u001b[0;32m1\u001b[0m\n\u001b[0;31m    {5+2\u001b[0m\n\u001b[0m        ^\u001b[0m\n\u001b[0;31mSyntaxError\u001b[0m\u001b[0;31m:\u001b[0m incomplete input\n"
          ]
        }
      ],
      "source": [
        "{5+2"
      ]
    },
    {
      "cell_type": "code",
      "source": [
        "if {}"
      ],
      "metadata": {
        "id": "h80TAtNJklHZ",
        "outputId": "b052cb9d-b854-42e7-f44a-d426d2c55fae",
        "colab": {
          "base_uri": "https://localhost:8080/",
          "height": 141
        }
      },
      "execution_count": 6,
      "outputs": [
        {
          "output_type": "error",
          "ename": "SyntaxError",
          "evalue": "ignored",
          "traceback": [
            "\u001b[0;36m  File \u001b[0;32m\"<ipython-input-6-0c21d03e2925>\"\u001b[0;36m, line \u001b[0;32m1\u001b[0m\n\u001b[0;31m    if {}\u001b[0m\n\u001b[0m         ^\u001b[0m\n\u001b[0;31mSyntaxError\u001b[0m\u001b[0;31m:\u001b[0m expected ':'\n"
          ]
        }
      ]
    },
    {
      "cell_type": "markdown",
      "source": [
        "# Sentencias\n",
        "Una sentencia es una unidad de codigo que el interprete de Python puede ejecutar.\n",
        "\n"
      ],
      "metadata": {
        "id": "esFH6M7zXswF"
      }
    },
    {
      "cell_type": "code",
      "source": [
        "print(5+3)"
      ],
      "metadata": {
        "id": "2gqhYIRQnuXJ",
        "outputId": "13e7c251-6177-4b8a-b14d-8ec2403d58c4",
        "colab": {
          "base_uri": "https://localhost:8080/"
        }
      },
      "execution_count": 9,
      "outputs": [
        {
          "output_type": "stream",
          "name": "stdout",
          "text": [
            "8\n"
          ]
        }
      ]
    },
    {
      "cell_type": "code",
      "source": [
        "a = 1+9"
      ],
      "metadata": {
        "id": "7BnsJgR5nyMK"
      },
      "execution_count": 10,
      "outputs": []
    },
    {
      "cell_type": "code",
      "source": [
        "name = \"Pablo\""
      ],
      "metadata": {
        "id": "JgJaMuVln11E"
      },
      "execution_count": 11,
      "outputs": []
    },
    {
      "cell_type": "code",
      "source": [
        "print(a)"
      ],
      "metadata": {
        "id": "SWBKW-gQoBVG",
        "outputId": "4f56ef20-a8e1-432e-cdba-c486ee82b6de",
        "colab": {
          "base_uri": "https://localhost:8080/"
        }
      },
      "execution_count": 12,
      "outputs": [
        {
          "output_type": "stream",
          "name": "stdout",
          "text": [
            "8\n"
          ]
        }
      ]
    },
    {
      "cell_type": "markdown",
      "source": [
        "# Operadores y Operandos\n",
        "Los operadores son símbolos que indican al intérprete que realice una operación específica, como las operaciones aritméticas, de comparación, con cadenas de texto, lógicas, entre otras. Los operandos son los valores a los cuales se aplican estas operaciones. Para obtener más detalles, revisa:\n",
        "\n",
        "*   https://www.w3schools.com/python/python_operators.asp\n",
        "*   https://www.freecodecamp.org/espanol/news/operadores-basicos-en-python-con-ejemplos/\n",
        "\n",
        "\n"
      ],
      "metadata": {
        "id": "z1EBvFCmYP8a"
      }
    },
    {
      "cell_type": "code",
      "source": [
        "#asignación\n",
        "a = 4\n",
        "b = 5\n",
        "# suma\n",
        "c= a+b\n",
        "#resta\n",
        "\n",
        "resta = a - b\n",
        "\n",
        "# multiplicación\n",
        "producto = a*b\n",
        "\n",
        "# división decimal y entera\n",
        "entera = b // 2 # Realiza la división con resultado de número entero\n",
        "decimal = b/ 2\n",
        "print(\"Entera, \",entera)\n",
        "print(\"Decimal, \",decimal)\n",
        "\n",
        "# modulo\n",
        "residuo = b % 2   # residuo de la división, no es porcentaje\n",
        "\n",
        "# potencia\n",
        "potencia = a**2\n"
      ],
      "metadata": {
        "id": "peFRaLAGoJVL",
        "outputId": "75427833-ec57-45b1-cbea-d7af3a7f46d8",
        "colab": {
          "base_uri": "https://localhost:8080/"
        }
      },
      "execution_count": 14,
      "outputs": [
        {
          "output_type": "stream",
          "name": "stdout",
          "text": [
            "Entera,  2\n",
            "Decimal,  2.5\n"
          ]
        }
      ]
    },
    {
      "cell_type": "code",
      "source": [
        "# con string\n",
        "print(\"ana\" * 2)\n",
        "print(\"*\"*20) # solo funciona con enteros\n",
        "\n",
        "#concanetación\n",
        "print(\"bana\"+ \"na\") # se unen los string"
      ],
      "metadata": {
        "id": "iYULCyORrLIF",
        "outputId": "22ee7c15-dc2f-4719-9a8e-ea7d6329f7b5",
        "colab": {
          "base_uri": "https://localhost:8080/"
        }
      },
      "execution_count": 16,
      "outputs": [
        {
          "output_type": "stream",
          "name": "stdout",
          "text": [
            "anaana\n",
            "********************\n",
            "banana\n"
          ]
        }
      ]
    },
    {
      "cell_type": "markdown",
      "source": [
        "- Operadores relacionales\n",
        "- Operadores Bit a Bit\n",
        "- Operadores de asignación\n",
        "- Operadores lógicos\n",
        "- Operadores de pertenencia\n",
        "- Operadores de identidad"
      ],
      "metadata": {
        "id": "uuGgOxHrr7lC"
      }
    },
    {
      "cell_type": "code",
      "source": [],
      "metadata": {
        "id": "CJNhpwXrr3FS"
      },
      "execution_count": null,
      "outputs": []
    },
    {
      "cell_type": "markdown",
      "source": [
        "# Expresiones\n",
        "Es la combinación de variables, valores y operadores."
      ],
      "metadata": {
        "id": "GAlPY3ykoIYk"
      }
    },
    {
      "cell_type": "code",
      "source": [],
      "metadata": {
        "id": "QDe1RczasGYM"
      },
      "execution_count": null,
      "outputs": []
    },
    {
      "cell_type": "markdown",
      "source": [
        "# Comentarios\n",
        "# Identación y bloques de Código\n",
        "# Parentesis\n",
        "# Varias lineas de código"
      ],
      "metadata": {
        "id": "ByqpCbhjsFIK"
      }
    },
    {
      "cell_type": "markdown",
      "source": [
        "# Bibliografía\n",
        "\n",
        "\n",
        "1.   https://ellibrodepython.com/sintaxis-python\n",
        "2.   Python para informaticos, Charles Severance, 2009\n",
        "3.\n",
        "\n"
      ],
      "metadata": {
        "id": "rRyjhvPfmgMS"
      }
    }
  ]
}